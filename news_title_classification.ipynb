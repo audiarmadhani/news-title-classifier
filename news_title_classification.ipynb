{
 "cells": [
  {
   "cell_type": "markdown",
   "metadata": {},
   "source": [
    "# News Title Classification\n",
    "\n",
    "#### Here we have dataset of news title that has been classed as Technology, Business, Entertainment, and Medical. Our task is to predict and classify which class does the title belong "
   ]
  },
  {
   "cell_type": "code",
   "execution_count": 1,
   "metadata": {
    "jupyter": {
     "source_hidden": true
    }
   },
   "outputs": [],
   "source": [
    "import pandas as pd\n",
    "import numpy as np\n",
    "import pandas.api.types as ptypes\n",
    "import matplotlib.pyplot as plt\n",
    "import seaborn as sns\n",
    "import re\n",
    "\n",
    "from sklearn import metrics\n",
    "from sklearn.model_selection import train_test_split, GridSearchCV, KFold, cross_val_score, RandomizedSearchCV\n",
    "from sklearn.metrics import confusion_matrix,classification_report,accuracy_score\n",
    "from sklearn.feature_extraction.text import CountVectorizer, TfidfTransformer, TfidfVectorizer\n",
    "from sklearn.linear_model import LogisticRegression, SGDClassifier\n",
    "from sklearn.ensemble import RandomForestClassifier\n",
    "from sklearn.tree import DecisionTreeClassifier\n",
    "from sklearn.naive_bayes import GaussianNB, MultinomialNB\n",
    "from sklearn.neighbors import KNeighborsClassifier\n",
    "from sklearn import preprocessing\n",
    "from sklearn.feature_selection import chi2\n",
    "from sklearn.svm import LinearSVC\n",
    "\n",
    "from sklearn.pipeline import Pipeline"
   ]
  },
  {
   "cell_type": "markdown",
   "metadata": {},
   "source": [
    "### Load the data"
   ]
  },
  {
   "cell_type": "code",
   "execution_count": 2,
   "metadata": {},
   "outputs": [],
   "source": [
    "df = pd.read_excel('news_title.xls', index_col=0, as_index=False)  \n",
    "df_tmp = df.copy()"
   ]
  },
  {
   "cell_type": "code",
   "execution_count": 3,
   "metadata": {},
   "outputs": [
    {
     "data": {
      "text/html": [
       "<div>\n",
       "<style scoped>\n",
       "    .dataframe tbody tr th:only-of-type {\n",
       "        vertical-align: middle;\n",
       "    }\n",
       "\n",
       "    .dataframe tbody tr th {\n",
       "        vertical-align: top;\n",
       "    }\n",
       "\n",
       "    .dataframe thead th {\n",
       "        text-align: right;\n",
       "    }\n",
       "</style>\n",
       "<table border=\"1\" class=\"dataframe\">\n",
       "  <thead>\n",
       "    <tr style=\"text-align: right;\">\n",
       "      <th></th>\n",
       "      <th>News Title</th>\n",
       "      <th>Category</th>\n",
       "    </tr>\n",
       "    <tr>\n",
       "      <th>No</th>\n",
       "      <th></th>\n",
       "      <th></th>\n",
       "    </tr>\n",
       "  </thead>\n",
       "  <tbody>\n",
       "    <tr>\n",
       "      <th>1</th>\n",
       "      <td>Google+ rolls out 'Stories' for tricked out ph...</td>\n",
       "      <td>Technology</td>\n",
       "    </tr>\n",
       "    <tr>\n",
       "      <th>2</th>\n",
       "      <td>Dov Charney's Redeeming Quality</td>\n",
       "      <td>Business</td>\n",
       "    </tr>\n",
       "    <tr>\n",
       "      <th>3</th>\n",
       "      <td>White God adds Un Certain Regard to the Palm Dog</td>\n",
       "      <td>Entertainment</td>\n",
       "    </tr>\n",
       "    <tr>\n",
       "      <th>4</th>\n",
       "      <td>Google shows off Androids for wearables, cars,...</td>\n",
       "      <td>Technology</td>\n",
       "    </tr>\n",
       "    <tr>\n",
       "      <th>5</th>\n",
       "      <td>China May new bank loans at 870.8 bln yuan</td>\n",
       "      <td>Business</td>\n",
       "    </tr>\n",
       "  </tbody>\n",
       "</table>\n",
       "</div>"
      ],
      "text/plain": [
       "                                           News Title       Category\n",
       "No                                                                  \n",
       "1   Google+ rolls out 'Stories' for tricked out ph...     Technology\n",
       "2                     Dov Charney's Redeeming Quality       Business\n",
       "3    White God adds Un Certain Regard to the Palm Dog  Entertainment\n",
       "4   Google shows off Androids for wearables, cars,...     Technology\n",
       "5          China May new bank loans at 870.8 bln yuan       Business"
      ]
     },
     "execution_count": 3,
     "metadata": {},
     "output_type": "execute_result"
    }
   ],
   "source": [
    "df_tmp.head()"
   ]
  },
  {
   "cell_type": "code",
   "execution_count": 4,
   "metadata": {},
   "outputs": [],
   "source": [
    "df_tmp.rename(columns = {'News Title' : 'news_title', 'Category' : 'category'}, inplace = True)"
   ]
  },
  {
   "cell_type": "markdown",
   "metadata": {},
   "source": [
    " "
   ]
  },
  {
   "cell_type": "markdown",
   "metadata": {},
   "source": [
    "### Feature Engineering"
   ]
  },
  {
   "cell_type": "markdown",
   "metadata": {},
   "source": [
    "#### We will convert all of the comments to only contain alphabet"
   ]
  },
  {
   "cell_type": "code",
   "execution_count": 5,
   "metadata": {},
   "outputs": [],
   "source": [
    "def process_comment(comment):\n",
    "    return \" \".join(re.findall(\"[A-Za-z]+\",comment.lower()))"
   ]
  },
  {
   "cell_type": "code",
   "execution_count": 6,
   "metadata": {},
   "outputs": [],
   "source": [
    "df_tmp['proc_title'] = df_tmp['news_title'].apply(process_comment)\n",
    "df_tmp['proc_title'] = df_tmp['proc_title'].astype(str)"
   ]
  },
  {
   "cell_type": "code",
   "execution_count": 7,
   "metadata": {},
   "outputs": [],
   "source": [
    "df_tmp.drop('news_title', axis=1, inplace=True)"
   ]
  },
  {
   "cell_type": "code",
   "execution_count": 8,
   "metadata": {},
   "outputs": [
    {
     "data": {
      "text/html": [
       "<div>\n",
       "<style scoped>\n",
       "    .dataframe tbody tr th:only-of-type {\n",
       "        vertical-align: middle;\n",
       "    }\n",
       "\n",
       "    .dataframe tbody tr th {\n",
       "        vertical-align: top;\n",
       "    }\n",
       "\n",
       "    .dataframe thead th {\n",
       "        text-align: right;\n",
       "    }\n",
       "</style>\n",
       "<table border=\"1\" class=\"dataframe\">\n",
       "  <thead>\n",
       "    <tr style=\"text-align: right;\">\n",
       "      <th></th>\n",
       "      <th>category</th>\n",
       "      <th>proc_title</th>\n",
       "    </tr>\n",
       "    <tr>\n",
       "      <th>No</th>\n",
       "      <th></th>\n",
       "      <th></th>\n",
       "    </tr>\n",
       "  </thead>\n",
       "  <tbody>\n",
       "    <tr>\n",
       "      <th>1</th>\n",
       "      <td>Technology</td>\n",
       "      <td>google rolls out stories for tricked out photo...</td>\n",
       "    </tr>\n",
       "    <tr>\n",
       "      <th>2</th>\n",
       "      <td>Business</td>\n",
       "      <td>dov charney s redeeming quality</td>\n",
       "    </tr>\n",
       "    <tr>\n",
       "      <th>3</th>\n",
       "      <td>Entertainment</td>\n",
       "      <td>white god adds un certain regard to the palm dog</td>\n",
       "    </tr>\n",
       "    <tr>\n",
       "      <th>4</th>\n",
       "      <td>Technology</td>\n",
       "      <td>google shows off androids for wearables cars tvs</td>\n",
       "    </tr>\n",
       "    <tr>\n",
       "      <th>5</th>\n",
       "      <td>Business</td>\n",
       "      <td>china may new bank loans at bln yuan</td>\n",
       "    </tr>\n",
       "    <tr>\n",
       "      <th>...</th>\n",
       "      <td>...</td>\n",
       "      <td>...</td>\n",
       "    </tr>\n",
       "    <tr>\n",
       "      <th>65531</th>\n",
       "      <td>Technology</td>\n",
       "      <td>xbox one homebrew will likely be a reality in ...</td>\n",
       "    </tr>\n",
       "    <tr>\n",
       "      <th>65532</th>\n",
       "      <td>Technology</td>\n",
       "      <td>maker recalls million rear facing infant seats</td>\n",
       "    </tr>\n",
       "    <tr>\n",
       "      <th>65533</th>\n",
       "      <td>Entertainment</td>\n",
       "      <td>watch first ninja turtles trailer</td>\n",
       "    </tr>\n",
       "    <tr>\n",
       "      <th>65534</th>\n",
       "      <td>Entertainment</td>\n",
       "      <td>dogs triumph in cannes as canine thriller wins...</td>\n",
       "    </tr>\n",
       "    <tr>\n",
       "      <th>65535</th>\n",
       "      <td>Business</td>\n",
       "      <td>frontpoint security ceo chris villar ranked no...</td>\n",
       "    </tr>\n",
       "  </tbody>\n",
       "</table>\n",
       "<p>65535 rows × 2 columns</p>\n",
       "</div>"
      ],
      "text/plain": [
       "            category                                         proc_title\n",
       "No                                                                     \n",
       "1         Technology  google rolls out stories for tricked out photo...\n",
       "2           Business                    dov charney s redeeming quality\n",
       "3      Entertainment   white god adds un certain regard to the palm dog\n",
       "4         Technology   google shows off androids for wearables cars tvs\n",
       "5           Business               china may new bank loans at bln yuan\n",
       "...              ...                                                ...\n",
       "65531     Technology  xbox one homebrew will likely be a reality in ...\n",
       "65532     Technology     maker recalls million rear facing infant seats\n",
       "65533  Entertainment                  watch first ninja turtles trailer\n",
       "65534  Entertainment  dogs triumph in cannes as canine thriller wins...\n",
       "65535       Business  frontpoint security ceo chris villar ranked no...\n",
       "\n",
       "[65535 rows x 2 columns]"
      ]
     },
     "execution_count": 8,
     "metadata": {},
     "output_type": "execute_result"
    }
   ],
   "source": [
    "df_tmp"
   ]
  },
  {
   "cell_type": "code",
   "execution_count": 9,
   "metadata": {},
   "outputs": [
    {
     "data": {
      "text/plain": [
       "category      0\n",
       "proc_title    0\n",
       "dtype: int64"
      ]
     },
     "execution_count": 9,
     "metadata": {},
     "output_type": "execute_result"
    }
   ],
   "source": [
    "df_tmp.isna().sum()"
   ]
  },
  {
   "cell_type": "markdown",
   "metadata": {},
   "source": [
    " "
   ]
  },
  {
   "cell_type": "markdown",
   "metadata": {},
   "source": [
    "#### Encoding Category"
   ]
  },
  {
   "cell_type": "code",
   "execution_count": 10,
   "metadata": {},
   "outputs": [],
   "source": [
    "df_enc = df_tmp.copy()"
   ]
  },
  {
   "cell_type": "code",
   "execution_count": 11,
   "metadata": {},
   "outputs": [
    {
     "data": {
      "text/html": [
       "<div>\n",
       "<style scoped>\n",
       "    .dataframe tbody tr th:only-of-type {\n",
       "        vertical-align: middle;\n",
       "    }\n",
       "\n",
       "    .dataframe tbody tr th {\n",
       "        vertical-align: top;\n",
       "    }\n",
       "\n",
       "    .dataframe thead th {\n",
       "        text-align: right;\n",
       "    }\n",
       "</style>\n",
       "<table border=\"1\" class=\"dataframe\">\n",
       "  <thead>\n",
       "    <tr style=\"text-align: right;\">\n",
       "      <th></th>\n",
       "      <th>category</th>\n",
       "      <th>proc_title</th>\n",
       "    </tr>\n",
       "    <tr>\n",
       "      <th>No</th>\n",
       "      <th></th>\n",
       "      <th></th>\n",
       "    </tr>\n",
       "  </thead>\n",
       "  <tbody>\n",
       "    <tr>\n",
       "      <th>1</th>\n",
       "      <td>3</td>\n",
       "      <td>google rolls out stories for tricked out photo...</td>\n",
       "    </tr>\n",
       "    <tr>\n",
       "      <th>2</th>\n",
       "      <td>0</td>\n",
       "      <td>dov charney s redeeming quality</td>\n",
       "    </tr>\n",
       "    <tr>\n",
       "      <th>3</th>\n",
       "      <td>1</td>\n",
       "      <td>white god adds un certain regard to the palm dog</td>\n",
       "    </tr>\n",
       "    <tr>\n",
       "      <th>4</th>\n",
       "      <td>3</td>\n",
       "      <td>google shows off androids for wearables cars tvs</td>\n",
       "    </tr>\n",
       "    <tr>\n",
       "      <th>5</th>\n",
       "      <td>0</td>\n",
       "      <td>china may new bank loans at bln yuan</td>\n",
       "    </tr>\n",
       "  </tbody>\n",
       "</table>\n",
       "</div>"
      ],
      "text/plain": [
       "    category                                         proc_title\n",
       "No                                                             \n",
       "1          3  google rolls out stories for tricked out photo...\n",
       "2          0                    dov charney s redeeming quality\n",
       "3          1   white god adds un certain regard to the palm dog\n",
       "4          3   google shows off androids for wearables cars tvs\n",
       "5          0               china may new bank loans at bln yuan"
      ]
     },
     "execution_count": 11,
     "metadata": {},
     "output_type": "execute_result"
    }
   ],
   "source": [
    "label_encoder = preprocessing.LabelEncoder()\n",
    "\n",
    "df_enc['category']= label_encoder.fit_transform(df_enc['category']) \n",
    "df_enc.head()"
   ]
  },
  {
   "cell_type": "code",
   "execution_count": 12,
   "metadata": {},
   "outputs": [
    {
     "data": {
      "image/png": "[encoded data removed]",
      "text/plain": [
       "<Figure size 432x288 with 1 Axes>"
      ]
     },
     "metadata": {
      "needs_background": "light"
     },
     "output_type": "display_data"
    }
   ],
   "source": [
    "df_enc.groupby('category').proc_title.count().plot.bar(ylim=0)\n",
    "plt.show()"
   ]
  },
  {
   "cell_type": "markdown",
   "metadata": {},
   "source": [
    "We have an imbalanced dataset. However, in this case the majority classes might be of our great interest. It is desirable to have a classifier that gives high prediction accuracy over the majority class, while maintaining reasonable accuracy for the minority classes. Therefore, we will leave it as it is."
   ]
  },
  {
   "cell_type": "markdown",
   "metadata": {},
   "source": [
    " "
   ]
  },
  {
   "cell_type": "markdown",
   "metadata": {},
   "source": [
    "#### Splitting Train and Test"
   ]
  },
  {
   "cell_type": "code",
   "execution_count": 13,
   "metadata": {},
   "outputs": [],
   "source": [
    "X, y = df_enc['proc_title'], df_tmp['category']\n",
    "X_train, X_test, y_train, y_test = train_test_split(X, y, test_size=.2, random_state=42)"
   ]
  },
  {
   "cell_type": "markdown",
   "metadata": {},
   "source": [
    "#### Count Vectorizer and TF-IDF\n",
    "\n",
    "Using countvectorizer to creates a matrix in which each unique word is represented by a column of the matrix, and each text sample from the document is a row in the matrix. The value of each cell is nothing but the count of the word in that particular text sample.\n",
    "\n",
    "The goal of using tf-idf instead of the raw frequencies of occurrence of a token in a given document is to scale down the impact of tokens that occur very frequently in a given corpus and that are hence empirically less informative than features that occur in a small fraction of the training corpus.\n",
    "\n",
    "We will go straight to modelling as the CountVectorizer and TfidfTransformer is in the pipeline"
   ]
  },
  {
   "cell_type": "markdown",
   "metadata": {},
   "source": [
    " "
   ]
  },
  {
   "cell_type": "markdown",
   "metadata": {},
   "source": [
    "## Modelling"
   ]
  },
  {
   "cell_type": "markdown",
   "metadata": {},
   "source": [
    "### Random Forest Classifier"
   ]
  },
  {
   "cell_type": "code",
   "execution_count": 67,
   "metadata": {},
   "outputs": [
    {
     "name": "stdout",
     "output_type": "stream",
     "text": [
      "Train Accuracy: 0.9988364995803769\n",
      "Test Accuracy: 0.8639658197909514\n"
     ]
    }
   ],
   "source": [
    "pipeline_rfc = Pipeline([('vect', CountVectorizer()),\n",
    "                     ('tfidf', TfidfTransformer()),\n",
    "                     ('clf', RandomForestClassifier()),\n",
    " ])\n",
    "pipeline_rfc = pipeline_rfc.fit(X_train, y_train)\n",
    "\n",
    "predicted_rfc = pipeline_rfc.predict(X_test)\n",
    "print(\"Train Accuracy:\",pipeline_rfc.score(X_train, y_train))\n",
    "print(\"Test Accuracy:\",pipeline_rfc.score(X_test, y_test))"
   ]
  },
  {
   "cell_type": "markdown",
   "metadata": {},
   "source": [
    "As you can see from above, the accuracy scores between train and test are not close enough. This suggest that Random Forest Classifier is overfitting this data"
   ]
  },
  {
   "cell_type": "code",
   "execution_count": 68,
   "metadata": {},
   "outputs": [
    {
     "name": "stdout",
     "output_type": "stream",
     "text": [
      "               precision    recall  f1-score   support\n",
      "\n",
      "     Business       0.85      0.83      0.84      3607\n",
      "Entertainment       0.85      0.96      0.90      4802\n",
      "      Medical       0.91      0.73      0.81      1428\n",
      "   Technology       0.89      0.82      0.85      3270\n",
      "\n",
      "     accuracy                           0.86     13107\n",
      "    macro avg       0.87      0.83      0.85     13107\n",
      " weighted avg       0.87      0.86      0.86     13107\n",
      "\n"
     ]
    }
   ],
   "source": [
    "print(classification_report(y_test,predicted_rfc))"
   ]
  },
  {
   "cell_type": "markdown",
   "metadata": {},
   "source": [
    "#### The accuracy from Random Forest Classifier is 86.4%"
   ]
  },
  {
   "cell_type": "markdown",
   "metadata": {},
   "source": [
    " "
   ]
  },
  {
   "cell_type": "markdown",
   "metadata": {},
   "source": [
    "### Decision Tree"
   ]
  },
  {
   "cell_type": "code",
   "execution_count": 69,
   "metadata": {},
   "outputs": [
    {
     "name": "stdout",
     "output_type": "stream",
     "text": [
      "Train Accuracy: 0.9988364995803769\n",
      "Test Accuracy: 0.8158999008163577\n"
     ]
    }
   ],
   "source": [
    "pipeline_dtc = Pipeline([('vect', CountVectorizer()),\n",
    "                     ('tfidf', TfidfTransformer()),\n",
    "                     ('clf', DecisionTreeClassifier()),\n",
    " ])\n",
    "pipeline_dtc = pipeline_dtc.fit(X_train, y_train)\n",
    "\n",
    "predicted_dtc = pipeline_dtc.predict(X_test)\n",
    "print(\"Train Accuracy:\",pipeline_dtc.score(X_train, y_train))\n",
    "print(\"Test Accuracy:\",pipeline_dtc.score(X_test, y_test))"
   ]
  },
  {
   "cell_type": "markdown",
   "metadata": {},
   "source": [
    "As you can see from above, the accuracy scores between train and test are not close enough. This suggest that Decision Tree is overfitting this data"
   ]
  },
  {
   "cell_type": "code",
   "execution_count": 70,
   "metadata": {},
   "outputs": [
    {
     "name": "stdout",
     "output_type": "stream",
     "text": [
      "               precision    recall  f1-score   support\n",
      "\n",
      "     Business       0.79      0.78      0.78      3607\n",
      "Entertainment       0.84      0.89      0.86      4802\n",
      "      Medical       0.76      0.71      0.74      1428\n",
      "   Technology       0.83      0.80      0.81      3270\n",
      "\n",
      "     accuracy                           0.82     13107\n",
      "    macro avg       0.81      0.79      0.80     13107\n",
      " weighted avg       0.81      0.82      0.82     13107\n",
      "\n"
     ]
    }
   ],
   "source": [
    "print(classification_report(y_test,predicted_dtc))"
   ]
  },
  {
   "cell_type": "markdown",
   "metadata": {},
   "source": [
    "#### The accuracy from Decision Tree is 81.6%"
   ]
  },
  {
   "cell_type": "markdown",
   "metadata": {},
   "source": [
    " "
   ]
  },
  {
   "cell_type": "markdown",
   "metadata": {},
   "source": [
    "### Naive Bayes Classifier"
   ]
  },
  {
   "cell_type": "code",
   "execution_count": 23,
   "metadata": {},
   "outputs": [
    {
     "name": "stdout",
     "output_type": "stream",
     "text": [
      "Train Accuracy: 0.9242198825055314\n",
      "Test Accuracy: 0.8985275043869688\n"
     ]
    }
   ],
   "source": [
    "pipeline_nb = Pipeline([('vect', CountVectorizer()),\n",
    "                     ('tfidf', TfidfTransformer()),\n",
    "                     ('clf', MultinomialNB()),\n",
    " ])\n",
    "pipeline_nb = pipeline_nb.fit(X_train, y_train)\n",
    "\n",
    "predicted_nb = pipeline_nb.predict(X_test)\n",
    "print(\"Train Accuracy:\",pipeline_nb.score(X_train, y_train))\n",
    "print(\"Test Accuracy:\",pipeline_nb.score(X_test, y_test))"
   ]
  },
  {
   "cell_type": "markdown",
   "metadata": {},
   "source": [
    "As you can see from above, the accuracy scores between train and test are close enough. This suggest that Naive Bayes is not overfitting this data"
   ]
  },
  {
   "cell_type": "code",
   "execution_count": 27,
   "metadata": {},
   "outputs": [
    {
     "name": "stdout",
     "output_type": "stream",
     "text": [
      "               precision    recall  f1-score   support\n",
      "\n",
      "     Business       0.88      0.88      0.88      3607\n",
      "Entertainment       0.91      0.97      0.94      4802\n",
      "      Medical       0.98      0.72      0.83      1428\n",
      "   Technology       0.87      0.89      0.88      3270\n",
      "\n",
      "     accuracy                           0.90     13107\n",
      "    macro avg       0.91      0.86      0.88     13107\n",
      " weighted avg       0.90      0.90      0.90     13107\n",
      "\n"
     ]
    }
   ],
   "source": [
    "print(classification_report(y_test,predicted_nb))"
   ]
  },
  {
   "cell_type": "markdown",
   "metadata": {},
   "source": [
    "#### The accuracy from Naive Bayes is 89.85%"
   ]
  },
  {
   "cell_type": "markdown",
   "metadata": {},
   "source": [
    " "
   ]
  },
  {
   "cell_type": "markdown",
   "metadata": {},
   "source": [
    "### K-Nearest Neighbors"
   ]
  },
  {
   "cell_type": "code",
   "execution_count": 96,
   "metadata": {},
   "outputs": [
    {
     "name": "stdout",
     "output_type": "stream",
     "text": [
      "Train Accuracy: 0.9448004882887007\n",
      "Test Accuracy: 0.9099717708094911\n"
     ]
    }
   ],
   "source": [
    "pipeline_knn = Pipeline([('vect', CountVectorizer()),\n",
    "                     ('tfidf', TfidfTransformer()),\n",
    "                     ('clf', KNeighborsClassifier()),\n",
    " ])\n",
    "pipeline_knn = pipeline_knn.fit(X_train, y_train)\n",
    "\n",
    "predicted_knn = pipeline_knn.predict(X_test)\n",
    "print(\"Train Accuracy:\",pipeline_knn.score(X_train, y_train))\n",
    "print(\"Test Accuracy:\",pipeline_knn.score(X_test, y_test))"
   ]
  },
  {
   "cell_type": "markdown",
   "metadata": {},
   "source": [
    "As you can see from above, the scores are very close which indicates that we avoided over-fitting."
   ]
  },
  {
   "cell_type": "code",
   "execution_count": 97,
   "metadata": {},
   "outputs": [
    {
     "name": "stdout",
     "output_type": "stream",
     "text": [
      "               precision    recall  f1-score   support\n",
      "\n",
      "     Business       0.88      0.89      0.89      3607\n",
      "Entertainment       0.93      0.97      0.95      4802\n",
      "      Medical       0.93      0.83      0.88      1428\n",
      "   Technology       0.90      0.88      0.89      3270\n",
      "\n",
      "     accuracy                           0.91     13107\n",
      "    macro avg       0.91      0.89      0.90     13107\n",
      " weighted avg       0.91      0.91      0.91     13107\n",
      "\n"
     ]
    }
   ],
   "source": [
    "print(classification_report(y_test,predicted_knn))"
   ]
  },
  {
   "cell_type": "markdown",
   "metadata": {},
   "source": [
    "#### The accuracy from K-Nearest Neighbors is 91%"
   ]
  },
  {
   "cell_type": "markdown",
   "metadata": {},
   "source": [
    " "
   ]
  },
  {
   "cell_type": "markdown",
   "metadata": {},
   "source": [
    "### SVM"
   ]
  },
  {
   "cell_type": "code",
   "execution_count": 65,
   "metadata": {},
   "outputs": [
    {
     "name": "stdout",
     "output_type": "stream",
     "text": [
      "Train Accuracy: 0.8423933775844968\n",
      "Test Accuracy: 0.8318455786984055\n"
     ]
    }
   ],
   "source": [
    "pipeline_svm = Pipeline([('vect', CountVectorizer()),\n",
    "                          ('tfidf', TfidfTransformer()),\n",
    "                          ('clf-svm', SGDClassifier(loss='hinge', penalty='l2', alpha=1e-3, random_state=42)),\n",
    "                         ])\n",
    "pipeline_svm = pipeline_svm.fit(X_train, y_train)\n",
    "predicted_svm = pipeline_svm.predict(X_test)\n",
    "print(\"Train Accuracy:\",pipeline_svm.score(X_train, y_train))\n",
    "print(\"Test Accuracy:\",pipeline_svm.score(X_test, y_test))"
   ]
  },
  {
   "cell_type": "markdown",
   "metadata": {},
   "source": [
    "As you can see from above, the scores are very close which indicates that we avoided over-fitting."
   ]
  },
  {
   "cell_type": "code",
   "execution_count": 66,
   "metadata": {},
   "outputs": [
    {
     "name": "stdout",
     "output_type": "stream",
     "text": [
      "               precision    recall  f1-score   support\n",
      "\n",
      "     Business       0.87      0.80      0.83      3607\n",
      "Entertainment       0.77      0.98      0.86      4802\n",
      "      Medical       0.94      0.58      0.72      1428\n",
      "   Technology       0.89      0.76      0.82      3270\n",
      "\n",
      "     accuracy                           0.83     13107\n",
      "    macro avg       0.87      0.78      0.81     13107\n",
      " weighted avg       0.85      0.83      0.83     13107\n",
      "\n"
     ]
    }
   ],
   "source": [
    "print(classification_report(y_test,predicted_svm))"
   ]
  },
  {
   "cell_type": "markdown",
   "metadata": {},
   "source": [
    "#### The accuracy from SVM is 83.1%"
   ]
  },
  {
   "cell_type": "markdown",
   "metadata": {},
   "source": [
    " "
   ]
  },
  {
   "cell_type": "markdown",
   "metadata": {},
   "source": [
    "### Using GridSearchCV we want to find the optimal parameters for KNearest-Neighbors"
   ]
  },
  {
   "cell_type": "code",
   "execution_count": 80,
   "metadata": {},
   "outputs": [],
   "source": [
    "parameters = {'vect__ngram_range': [(1, 1),(1, 2)],\n",
    "               'tfidf__use_idf': (True, False),\n",
    "               'clf__leaf_size': (list(range(20,40,2))),\n",
    "               'clf__n_neighbors': (list(range(1,10,1))),\n",
    "               'clf__p': (list(range(1,5,1)))\n",
    "            }"
   ]
  },
  {
   "cell_type": "code",
   "execution_count": 90,
   "metadata": {
    "collapsed": true,
    "jupyter": {
     "outputs_hidden": true
    }
   },
   "outputs": [
    {
     "name": "stdout",
     "output_type": "stream",
     "text": [
      "Fitting 5 folds for each of 10 candidates, totalling 50 fits\n",
      "[CV] vect__ngram_range=(1, 2), tfidf__use_idf=False, clf__p=2, clf__n_neighbors=2, clf__leaf_size=28 \n"
     ]
    },
    {
     "name": "stderr",
     "output_type": "stream",
     "text": [
      "[Parallel(n_jobs=1)]: Using backend SequentialBackend with 1 concurrent workers.\n"
     ]
    },
    {
     "name": "stdout",
     "output_type": "stream",
     "text": [
      "[CV]  vect__ngram_range=(1, 2), tfidf__use_idf=False, clf__p=2, clf__n_neighbors=2, clf__leaf_size=28, score=0.835, total=  10.6s\n",
      "[CV] vect__ngram_range=(1, 2), tfidf__use_idf=False, clf__p=2, clf__n_neighbors=2, clf__leaf_size=28 \n"
     ]
    },
    {
     "name": "stderr",
     "output_type": "stream",
     "text": [
      "[Parallel(n_jobs=1)]: Done   1 out of   1 | elapsed:   10.5s remaining:    0.0s\n"
     ]
    },
    {
     "name": "stdout",
     "output_type": "stream",
     "text": [
      "[CV]  vect__ngram_range=(1, 2), tfidf__use_idf=False, clf__p=2, clf__n_neighbors=2, clf__leaf_size=28, score=0.828, total=  10.6s\n",
      "[CV] vect__ngram_range=(1, 2), tfidf__use_idf=False, clf__p=2, clf__n_neighbors=2, clf__leaf_size=28 \n"
     ]
    },
    {
     "name": "stderr",
     "output_type": "stream",
     "text": [
      "[Parallel(n_jobs=1)]: Done   2 out of   2 | elapsed:   21.1s remaining:    0.0s\n"
     ]
    },
    {
     "name": "stdout",
     "output_type": "stream",
     "text": [
      "[CV]  vect__ngram_range=(1, 2), tfidf__use_idf=False, clf__p=2, clf__n_neighbors=2, clf__leaf_size=28, score=0.831, total=  10.7s\n",
      "[CV] vect__ngram_range=(1, 2), tfidf__use_idf=False, clf__p=2, clf__n_neighbors=2, clf__leaf_size=28 \n"
     ]
    },
    {
     "name": "stderr",
     "output_type": "stream",
     "text": [
      "[Parallel(n_jobs=1)]: Done   3 out of   3 | elapsed:   31.8s remaining:    0.0s\n"
     ]
    },
    {
     "name": "stdout",
     "output_type": "stream",
     "text": [
      "[CV]  vect__ngram_range=(1, 2), tfidf__use_idf=False, clf__p=2, clf__n_neighbors=2, clf__leaf_size=28, score=0.834, total=  10.9s\n",
      "[CV] vect__ngram_range=(1, 2), tfidf__use_idf=False, clf__p=2, clf__n_neighbors=2, clf__leaf_size=28 \n"
     ]
    },
    {
     "name": "stderr",
     "output_type": "stream",
     "text": [
      "[Parallel(n_jobs=1)]: Done   4 out of   4 | elapsed:   42.7s remaining:    0.0s\n"
     ]
    },
    {
     "name": "stdout",
     "output_type": "stream",
     "text": [
      "[CV]  vect__ngram_range=(1, 2), tfidf__use_idf=False, clf__p=2, clf__n_neighbors=2, clf__leaf_size=28, score=0.833, total=  11.1s\n",
      "[CV] vect__ngram_range=(1, 1), tfidf__use_idf=False, clf__p=2, clf__n_neighbors=9, clf__leaf_size=28 \n"
     ]
    },
    {
     "name": "stderr",
     "output_type": "stream",
     "text": [
      "[Parallel(n_jobs=1)]: Done   5 out of   5 | elapsed:   53.8s remaining:    0.0s\n"
     ]
    },
    {
     "name": "stdout",
     "output_type": "stream",
     "text": [
      "[CV]  vect__ngram_range=(1, 1), tfidf__use_idf=False, clf__p=2, clf__n_neighbors=9, clf__leaf_size=28, score=0.856, total=  12.2s\n",
      "[CV] vect__ngram_range=(1, 1), tfidf__use_idf=False, clf__p=2, clf__n_neighbors=9, clf__leaf_size=28 \n"
     ]
    },
    {
     "name": "stderr",
     "output_type": "stream",
     "text": [
      "[Parallel(n_jobs=1)]: Done   6 out of   6 | elapsed:  1.1min remaining:    0.0s\n"
     ]
    },
    {
     "name": "stdout",
     "output_type": "stream",
     "text": [
      "[CV]  vect__ngram_range=(1, 1), tfidf__use_idf=False, clf__p=2, clf__n_neighbors=9, clf__leaf_size=28, score=0.856, total=  12.2s\n",
      "[CV] vect__ngram_range=(1, 1), tfidf__use_idf=False, clf__p=2, clf__n_neighbors=9, clf__leaf_size=28 \n"
     ]
    },
    {
     "name": "stderr",
     "output_type": "stream",
     "text": [
      "[Parallel(n_jobs=1)]: Done   7 out of   7 | elapsed:  1.3min remaining:    0.0s\n"
     ]
    },
    {
     "name": "stdout",
     "output_type": "stream",
     "text": [
      "[CV]  vect__ngram_range=(1, 1), tfidf__use_idf=False, clf__p=2, clf__n_neighbors=9, clf__leaf_size=28, score=0.860, total=  12.2s\n",
      "[CV] vect__ngram_range=(1, 1), tfidf__use_idf=False, clf__p=2, clf__n_neighbors=9, clf__leaf_size=28 \n",
      "[CV]  vect__ngram_range=(1, 1), tfidf__use_idf=False, clf__p=2, clf__n_neighbors=9, clf__leaf_size=28, score=0.861, total=  11.6s\n",
      "[CV] vect__ngram_range=(1, 1), tfidf__use_idf=False, clf__p=2, clf__n_neighbors=9, clf__leaf_size=28 \n",
      "[CV]  vect__ngram_range=(1, 1), tfidf__use_idf=False, clf__p=2, clf__n_neighbors=9, clf__leaf_size=28, score=0.860, total=  11.4s\n",
      "[CV] vect__ngram_range=(1, 2), tfidf__use_idf=False, clf__p=4, clf__n_neighbors=3, clf__leaf_size=22 \n"
     ]
    },
    {
     "name": "stderr",
     "output_type": "stream",
     "text": [
      "C:\\Users\\audia\\AppData\\Roaming\\Python\\Python38\\site-packages\\sklearn\\model_selection\\_validation.py:548: FitFailedWarning: Estimator fit failed. The score on this train-test partition for these parameters will be set to nan. Details: \n",
      "Traceback (most recent call last):\n",
      "  File \"C:\\Users\\audia\\AppData\\Roaming\\Python\\Python38\\site-packages\\sklearn\\model_selection\\_validation.py\", line 531, in _fit_and_score\n",
      "    estimator.fit(X_train, y_train, **fit_params)\n",
      "  File \"C:\\Users\\audia\\AppData\\Roaming\\Python\\Python38\\site-packages\\sklearn\\pipeline.py\", line 335, in fit\n",
      "    self._final_estimator.fit(Xt, y, **fit_params_last_step)\n",
      "  File \"C:\\Users\\audia\\AppData\\Roaming\\Python\\Python38\\site-packages\\sklearn\\neighbors\\_base.py\", line 1157, in fit\n",
      "    return self._fit(X)\n",
      "  File \"C:\\Users\\audia\\AppData\\Roaming\\Python\\Python38\\site-packages\\sklearn\\neighbors\\_base.py\", line 419, in _fit\n",
      "    raise ValueError(\"Metric '%s' not valid for sparse input. \"\n",
      "ValueError: Metric 'minkowski' not valid for sparse input. Use sorted(sklearn.neighbors.VALID_METRICS_SPARSE['brute']) to get valid options. Metric can also be a callable function.\n",
      "\n",
      "  warnings.warn(\"Estimator fit failed. The score on this train-test\"\n"
     ]
    },
    {
     "name": "stdout",
     "output_type": "stream",
     "text": [
      "[CV]  vect__ngram_range=(1, 2), tfidf__use_idf=False, clf__p=4, clf__n_neighbors=3, clf__leaf_size=22, score=nan, total=   1.7s\n",
      "[CV] vect__ngram_range=(1, 2), tfidf__use_idf=False, clf__p=4, clf__n_neighbors=3, clf__leaf_size=22 \n"
     ]
    },
    {
     "name": "stderr",
     "output_type": "stream",
     "text": [
      "C:\\Users\\audia\\AppData\\Roaming\\Python\\Python38\\site-packages\\sklearn\\model_selection\\_validation.py:548: FitFailedWarning: Estimator fit failed. The score on this train-test partition for these parameters will be set to nan. Details: \n",
      "Traceback (most recent call last):\n",
      "  File \"C:\\Users\\audia\\AppData\\Roaming\\Python\\Python38\\site-packages\\sklearn\\model_selection\\_validation.py\", line 531, in _fit_and_score\n",
      "    estimator.fit(X_train, y_train, **fit_params)\n",
      "  File \"C:\\Users\\audia\\AppData\\Roaming\\Python\\Python38\\site-packages\\sklearn\\pipeline.py\", line 335, in fit\n",
      "    self._final_estimator.fit(Xt, y, **fit_params_last_step)\n",
      "  File \"C:\\Users\\audia\\AppData\\Roaming\\Python\\Python38\\site-packages\\sklearn\\neighbors\\_base.py\", line 1157, in fit\n",
      "    return self._fit(X)\n",
      "  File \"C:\\Users\\audia\\AppData\\Roaming\\Python\\Python38\\site-packages\\sklearn\\neighbors\\_base.py\", line 419, in _fit\n",
      "    raise ValueError(\"Metric '%s' not valid for sparse input. \"\n",
      "ValueError: Metric 'minkowski' not valid for sparse input. Use sorted(sklearn.neighbors.VALID_METRICS_SPARSE['brute']) to get valid options. Metric can also be a callable function.\n",
      "\n",
      "  warnings.warn(\"Estimator fit failed. The score on this train-test\"\n"
     ]
    },
    {
     "name": "stdout",
     "output_type": "stream",
     "text": [
      "[CV]  vect__ngram_range=(1, 2), tfidf__use_idf=False, clf__p=4, clf__n_neighbors=3, clf__leaf_size=22, score=nan, total=   1.6s\n",
      "[CV] vect__ngram_range=(1, 2), tfidf__use_idf=False, clf__p=4, clf__n_neighbors=3, clf__leaf_size=22 \n"
     ]
    },
    {
     "name": "stderr",
     "output_type": "stream",
     "text": [
      "C:\\Users\\audia\\AppData\\Roaming\\Python\\Python38\\site-packages\\sklearn\\model_selection\\_validation.py:548: FitFailedWarning: Estimator fit failed. The score on this train-test partition for these parameters will be set to nan. Details: \n",
      "Traceback (most recent call last):\n",
      "  File \"C:\\Users\\audia\\AppData\\Roaming\\Python\\Python38\\site-packages\\sklearn\\model_selection\\_validation.py\", line 531, in _fit_and_score\n",
      "    estimator.fit(X_train, y_train, **fit_params)\n",
      "  File \"C:\\Users\\audia\\AppData\\Roaming\\Python\\Python38\\site-packages\\sklearn\\pipeline.py\", line 335, in fit\n",
      "    self._final_estimator.fit(Xt, y, **fit_params_last_step)\n",
      "  File \"C:\\Users\\audia\\AppData\\Roaming\\Python\\Python38\\site-packages\\sklearn\\neighbors\\_base.py\", line 1157, in fit\n",
      "    return self._fit(X)\n",
      "  File \"C:\\Users\\audia\\AppData\\Roaming\\Python\\Python38\\site-packages\\sklearn\\neighbors\\_base.py\", line 419, in _fit\n",
      "    raise ValueError(\"Metric '%s' not valid for sparse input. \"\n",
      "ValueError: Metric 'minkowski' not valid for sparse input. Use sorted(sklearn.neighbors.VALID_METRICS_SPARSE['brute']) to get valid options. Metric can also be a callable function.\n",
      "\n",
      "  warnings.warn(\"Estimator fit failed. The score on this train-test\"\n"
     ]
    },
    {
     "name": "stdout",
     "output_type": "stream",
     "text": [
      "[CV]  vect__ngram_range=(1, 2), tfidf__use_idf=False, clf__p=4, clf__n_neighbors=3, clf__leaf_size=22, score=nan, total=   1.6s\n",
      "[CV] vect__ngram_range=(1, 2), tfidf__use_idf=False, clf__p=4, clf__n_neighbors=3, clf__leaf_size=22 \n"
     ]
    },
    {
     "name": "stderr",
     "output_type": "stream",
     "text": [
      "C:\\Users\\audia\\AppData\\Roaming\\Python\\Python38\\site-packages\\sklearn\\model_selection\\_validation.py:548: FitFailedWarning: Estimator fit failed. The score on this train-test partition for these parameters will be set to nan. Details: \n",
      "Traceback (most recent call last):\n",
      "  File \"C:\\Users\\audia\\AppData\\Roaming\\Python\\Python38\\site-packages\\sklearn\\model_selection\\_validation.py\", line 531, in _fit_and_score\n",
      "    estimator.fit(X_train, y_train, **fit_params)\n",
      "  File \"C:\\Users\\audia\\AppData\\Roaming\\Python\\Python38\\site-packages\\sklearn\\pipeline.py\", line 335, in fit\n",
      "    self._final_estimator.fit(Xt, y, **fit_params_last_step)\n",
      "  File \"C:\\Users\\audia\\AppData\\Roaming\\Python\\Python38\\site-packages\\sklearn\\neighbors\\_base.py\", line 1157, in fit\n",
      "    return self._fit(X)\n",
      "  File \"C:\\Users\\audia\\AppData\\Roaming\\Python\\Python38\\site-packages\\sklearn\\neighbors\\_base.py\", line 419, in _fit\n",
      "    raise ValueError(\"Metric '%s' not valid for sparse input. \"\n",
      "ValueError: Metric 'minkowski' not valid for sparse input. Use sorted(sklearn.neighbors.VALID_METRICS_SPARSE['brute']) to get valid options. Metric can also be a callable function.\n",
      "\n",
      "  warnings.warn(\"Estimator fit failed. The score on this train-test\"\n"
     ]
    },
    {
     "name": "stdout",
     "output_type": "stream",
     "text": [
      "[CV]  vect__ngram_range=(1, 2), tfidf__use_idf=False, clf__p=4, clf__n_neighbors=3, clf__leaf_size=22, score=nan, total=   1.6s\n",
      "[CV] vect__ngram_range=(1, 2), tfidf__use_idf=False, clf__p=4, clf__n_neighbors=3, clf__leaf_size=22 \n"
     ]
    },
    {
     "name": "stderr",
     "output_type": "stream",
     "text": [
      "C:\\Users\\audia\\AppData\\Roaming\\Python\\Python38\\site-packages\\sklearn\\model_selection\\_validation.py:548: FitFailedWarning: Estimator fit failed. The score on this train-test partition for these parameters will be set to nan. Details: \n",
      "Traceback (most recent call last):\n",
      "  File \"C:\\Users\\audia\\AppData\\Roaming\\Python\\Python38\\site-packages\\sklearn\\model_selection\\_validation.py\", line 531, in _fit_and_score\n",
      "    estimator.fit(X_train, y_train, **fit_params)\n",
      "  File \"C:\\Users\\audia\\AppData\\Roaming\\Python\\Python38\\site-packages\\sklearn\\pipeline.py\", line 335, in fit\n",
      "    self._final_estimator.fit(Xt, y, **fit_params_last_step)\n",
      "  File \"C:\\Users\\audia\\AppData\\Roaming\\Python\\Python38\\site-packages\\sklearn\\neighbors\\_base.py\", line 1157, in fit\n",
      "    return self._fit(X)\n",
      "  File \"C:\\Users\\audia\\AppData\\Roaming\\Python\\Python38\\site-packages\\sklearn\\neighbors\\_base.py\", line 419, in _fit\n",
      "    raise ValueError(\"Metric '%s' not valid for sparse input. \"\n",
      "ValueError: Metric 'minkowski' not valid for sparse input. Use sorted(sklearn.neighbors.VALID_METRICS_SPARSE['brute']) to get valid options. Metric can also be a callable function.\n",
      "\n",
      "  warnings.warn(\"Estimator fit failed. The score on this train-test\"\n"
     ]
    },
    {
     "name": "stdout",
     "output_type": "stream",
     "text": [
      "[CV]  vect__ngram_range=(1, 2), tfidf__use_idf=False, clf__p=4, clf__n_neighbors=3, clf__leaf_size=22, score=nan, total=   1.7s\n",
      "[CV] vect__ngram_range=(1, 1), tfidf__use_idf=False, clf__p=3, clf__n_neighbors=6, clf__leaf_size=32 \n"
     ]
    },
    {
     "name": "stderr",
     "output_type": "stream",
     "text": [
      "C:\\Users\\audia\\AppData\\Roaming\\Python\\Python38\\site-packages\\sklearn\\model_selection\\_validation.py:548: FitFailedWarning: Estimator fit failed. The score on this train-test partition for these parameters will be set to nan. Details: \n",
      "Traceback (most recent call last):\n",
      "  File \"C:\\Users\\audia\\AppData\\Roaming\\Python\\Python38\\site-packages\\sklearn\\model_selection\\_validation.py\", line 531, in _fit_and_score\n",
      "    estimator.fit(X_train, y_train, **fit_params)\n",
      "  File \"C:\\Users\\audia\\AppData\\Roaming\\Python\\Python38\\site-packages\\sklearn\\pipeline.py\", line 335, in fit\n",
      "    self._final_estimator.fit(Xt, y, **fit_params_last_step)\n",
      "  File \"C:\\Users\\audia\\AppData\\Roaming\\Python\\Python38\\site-packages\\sklearn\\neighbors\\_base.py\", line 1157, in fit\n",
      "    return self._fit(X)\n",
      "  File \"C:\\Users\\audia\\AppData\\Roaming\\Python\\Python38\\site-packages\\sklearn\\neighbors\\_base.py\", line 419, in _fit\n",
      "    raise ValueError(\"Metric '%s' not valid for sparse input. \"\n",
      "ValueError: Metric 'minkowski' not valid for sparse input. Use sorted(sklearn.neighbors.VALID_METRICS_SPARSE['brute']) to get valid options. Metric can also be a callable function.\n",
      "\n",
      "  warnings.warn(\"Estimator fit failed. The score on this train-test\"\n"
     ]
    },
    {
     "name": "stdout",
     "output_type": "stream",
     "text": [
      "[CV]  vect__ngram_range=(1, 1), tfidf__use_idf=False, clf__p=3, clf__n_neighbors=6, clf__leaf_size=32, score=nan, total=   0.6s\n",
      "[CV] vect__ngram_range=(1, 1), tfidf__use_idf=False, clf__p=3, clf__n_neighbors=6, clf__leaf_size=32 \n"
     ]
    },
    {
     "name": "stderr",
     "output_type": "stream",
     "text": [
      "C:\\Users\\audia\\AppData\\Roaming\\Python\\Python38\\site-packages\\sklearn\\model_selection\\_validation.py:548: FitFailedWarning: Estimator fit failed. The score on this train-test partition for these parameters will be set to nan. Details: \n",
      "Traceback (most recent call last):\n",
      "  File \"C:\\Users\\audia\\AppData\\Roaming\\Python\\Python38\\site-packages\\sklearn\\model_selection\\_validation.py\", line 531, in _fit_and_score\n",
      "    estimator.fit(X_train, y_train, **fit_params)\n",
      "  File \"C:\\Users\\audia\\AppData\\Roaming\\Python\\Python38\\site-packages\\sklearn\\pipeline.py\", line 335, in fit\n",
      "    self._final_estimator.fit(Xt, y, **fit_params_last_step)\n",
      "  File \"C:\\Users\\audia\\AppData\\Roaming\\Python\\Python38\\site-packages\\sklearn\\neighbors\\_base.py\", line 1157, in fit\n",
      "    return self._fit(X)\n",
      "  File \"C:\\Users\\audia\\AppData\\Roaming\\Python\\Python38\\site-packages\\sklearn\\neighbors\\_base.py\", line 419, in _fit\n",
      "    raise ValueError(\"Metric '%s' not valid for sparse input. \"\n",
      "ValueError: Metric 'minkowski' not valid for sparse input. Use sorted(sklearn.neighbors.VALID_METRICS_SPARSE['brute']) to get valid options. Metric can also be a callable function.\n",
      "\n",
      "  warnings.warn(\"Estimator fit failed. The score on this train-test\"\n"
     ]
    },
    {
     "name": "stdout",
     "output_type": "stream",
     "text": [
      "[CV]  vect__ngram_range=(1, 1), tfidf__use_idf=False, clf__p=3, clf__n_neighbors=6, clf__leaf_size=32, score=nan, total=   0.6s\n",
      "[CV] vect__ngram_range=(1, 1), tfidf__use_idf=False, clf__p=3, clf__n_neighbors=6, clf__leaf_size=32 \n"
     ]
    },
    {
     "name": "stderr",
     "output_type": "stream",
     "text": [
      "C:\\Users\\audia\\AppData\\Roaming\\Python\\Python38\\site-packages\\sklearn\\model_selection\\_validation.py:548: FitFailedWarning: Estimator fit failed. The score on this train-test partition for these parameters will be set to nan. Details: \n",
      "Traceback (most recent call last):\n",
      "  File \"C:\\Users\\audia\\AppData\\Roaming\\Python\\Python38\\site-packages\\sklearn\\model_selection\\_validation.py\", line 531, in _fit_and_score\n",
      "    estimator.fit(X_train, y_train, **fit_params)\n",
      "  File \"C:\\Users\\audia\\AppData\\Roaming\\Python\\Python38\\site-packages\\sklearn\\pipeline.py\", line 335, in fit\n",
      "    self._final_estimator.fit(Xt, y, **fit_params_last_step)\n",
      "  File \"C:\\Users\\audia\\AppData\\Roaming\\Python\\Python38\\site-packages\\sklearn\\neighbors\\_base.py\", line 1157, in fit\n",
      "    return self._fit(X)\n",
      "  File \"C:\\Users\\audia\\AppData\\Roaming\\Python\\Python38\\site-packages\\sklearn\\neighbors\\_base.py\", line 419, in _fit\n",
      "    raise ValueError(\"Metric '%s' not valid for sparse input. \"\n",
      "ValueError: Metric 'minkowski' not valid for sparse input. Use sorted(sklearn.neighbors.VALID_METRICS_SPARSE['brute']) to get valid options. Metric can also be a callable function.\n",
      "\n",
      "  warnings.warn(\"Estimator fit failed. The score on this train-test\"\n"
     ]
    },
    {
     "name": "stdout",
     "output_type": "stream",
     "text": [
      "[CV]  vect__ngram_range=(1, 1), tfidf__use_idf=False, clf__p=3, clf__n_neighbors=6, clf__leaf_size=32, score=nan, total=   0.6s\n",
      "[CV] vect__ngram_range=(1, 1), tfidf__use_idf=False, clf__p=3, clf__n_neighbors=6, clf__leaf_size=32 \n"
     ]
    },
    {
     "name": "stderr",
     "output_type": "stream",
     "text": [
      "C:\\Users\\audia\\AppData\\Roaming\\Python\\Python38\\site-packages\\sklearn\\model_selection\\_validation.py:548: FitFailedWarning: Estimator fit failed. The score on this train-test partition for these parameters will be set to nan. Details: \n",
      "Traceback (most recent call last):\n",
      "  File \"C:\\Users\\audia\\AppData\\Roaming\\Python\\Python38\\site-packages\\sklearn\\model_selection\\_validation.py\", line 531, in _fit_and_score\n",
      "    estimator.fit(X_train, y_train, **fit_params)\n",
      "  File \"C:\\Users\\audia\\AppData\\Roaming\\Python\\Python38\\site-packages\\sklearn\\pipeline.py\", line 335, in fit\n",
      "    self._final_estimator.fit(Xt, y, **fit_params_last_step)\n",
      "  File \"C:\\Users\\audia\\AppData\\Roaming\\Python\\Python38\\site-packages\\sklearn\\neighbors\\_base.py\", line 1157, in fit\n",
      "    return self._fit(X)\n",
      "  File \"C:\\Users\\audia\\AppData\\Roaming\\Python\\Python38\\site-packages\\sklearn\\neighbors\\_base.py\", line 419, in _fit\n",
      "    raise ValueError(\"Metric '%s' not valid for sparse input. \"\n",
      "ValueError: Metric 'minkowski' not valid for sparse input. Use sorted(sklearn.neighbors.VALID_METRICS_SPARSE['brute']) to get valid options. Metric can also be a callable function.\n",
      "\n",
      "  warnings.warn(\"Estimator fit failed. The score on this train-test\"\n"
     ]
    },
    {
     "name": "stdout",
     "output_type": "stream",
     "text": [
      "[CV]  vect__ngram_range=(1, 1), tfidf__use_idf=False, clf__p=3, clf__n_neighbors=6, clf__leaf_size=32, score=nan, total=   0.6s\n",
      "[CV] vect__ngram_range=(1, 1), tfidf__use_idf=False, clf__p=3, clf__n_neighbors=6, clf__leaf_size=32 \n",
      "[CV]  vect__ngram_range=(1, 1), tfidf__use_idf=False, clf__p=3, clf__n_neighbors=6, clf__leaf_size=32, score=nan, total=   0.6s\n",
      "[CV] vect__ngram_range=(1, 1), tfidf__use_idf=True, clf__p=1, clf__n_neighbors=4, clf__leaf_size=22 \n"
     ]
    },
    {
     "name": "stderr",
     "output_type": "stream",
     "text": [
      "C:\\Users\\audia\\AppData\\Roaming\\Python\\Python38\\site-packages\\sklearn\\model_selection\\_validation.py:548: FitFailedWarning: Estimator fit failed. The score on this train-test partition for these parameters will be set to nan. Details: \n",
      "Traceback (most recent call last):\n",
      "  File \"C:\\Users\\audia\\AppData\\Roaming\\Python\\Python38\\site-packages\\sklearn\\model_selection\\_validation.py\", line 531, in _fit_and_score\n",
      "    estimator.fit(X_train, y_train, **fit_params)\n",
      "  File \"C:\\Users\\audia\\AppData\\Roaming\\Python\\Python38\\site-packages\\sklearn\\pipeline.py\", line 335, in fit\n",
      "    self._final_estimator.fit(Xt, y, **fit_params_last_step)\n",
      "  File \"C:\\Users\\audia\\AppData\\Roaming\\Python\\Python38\\site-packages\\sklearn\\neighbors\\_base.py\", line 1157, in fit\n",
      "    return self._fit(X)\n",
      "  File \"C:\\Users\\audia\\AppData\\Roaming\\Python\\Python38\\site-packages\\sklearn\\neighbors\\_base.py\", line 419, in _fit\n",
      "    raise ValueError(\"Metric '%s' not valid for sparse input. \"\n",
      "ValueError: Metric 'minkowski' not valid for sparse input. Use sorted(sklearn.neighbors.VALID_METRICS_SPARSE['brute']) to get valid options. Metric can also be a callable function.\n",
      "\n",
      "  warnings.warn(\"Estimator fit failed. The score on this train-test\"\n"
     ]
    },
    {
     "name": "stdout",
     "output_type": "stream",
     "text": [
      "[CV]  vect__ngram_range=(1, 1), tfidf__use_idf=True, clf__p=1, clf__n_neighbors=4, clf__leaf_size=22, score=0.837, total=  15.8s\n",
      "[CV] vect__ngram_range=(1, 1), tfidf__use_idf=True, clf__p=1, clf__n_neighbors=4, clf__leaf_size=22 \n",
      "[CV]  vect__ngram_range=(1, 1), tfidf__use_idf=True, clf__p=1, clf__n_neighbors=4, clf__leaf_size=22, score=0.832, total=  16.1s\n",
      "[CV] vect__ngram_range=(1, 1), tfidf__use_idf=True, clf__p=1, clf__n_neighbors=4, clf__leaf_size=22 \n",
      "[CV]  vect__ngram_range=(1, 1), tfidf__use_idf=True, clf__p=1, clf__n_neighbors=4, clf__leaf_size=22, score=0.830, total=  15.2s\n",
      "[CV] vect__ngram_range=(1, 1), tfidf__use_idf=True, clf__p=1, clf__n_neighbors=4, clf__leaf_size=22 \n",
      "[CV]  vect__ngram_range=(1, 1), tfidf__use_idf=True, clf__p=1, clf__n_neighbors=4, clf__leaf_size=22, score=0.833, total=  16.5s\n",
      "[CV] vect__ngram_range=(1, 1), tfidf__use_idf=True, clf__p=1, clf__n_neighbors=4, clf__leaf_size=22 \n",
      "[CV]  vect__ngram_range=(1, 1), tfidf__use_idf=True, clf__p=1, clf__n_neighbors=4, clf__leaf_size=22, score=0.834, total=  16.4s\n",
      "[CV] vect__ngram_range=(1, 1), tfidf__use_idf=True, clf__p=2, clf__n_neighbors=7, clf__leaf_size=30 \n",
      "[CV]  vect__ngram_range=(1, 1), tfidf__use_idf=True, clf__p=2, clf__n_neighbors=7, clf__leaf_size=30, score=0.910, total=  11.5s\n",
      "[CV] vect__ngram_range=(1, 1), tfidf__use_idf=True, clf__p=2, clf__n_neighbors=7, clf__leaf_size=30 \n",
      "[CV]  vect__ngram_range=(1, 1), tfidf__use_idf=True, clf__p=2, clf__n_neighbors=7, clf__leaf_size=30, score=0.903, total=  11.9s\n",
      "[CV] vect__ngram_range=(1, 1), tfidf__use_idf=True, clf__p=2, clf__n_neighbors=7, clf__leaf_size=30 \n",
      "[CV]  vect__ngram_range=(1, 1), tfidf__use_idf=True, clf__p=2, clf__n_neighbors=7, clf__leaf_size=30, score=0.906, total=  11.2s\n",
      "[CV] vect__ngram_range=(1, 1), tfidf__use_idf=True, clf__p=2, clf__n_neighbors=7, clf__leaf_size=30 \n",
      "[CV]  vect__ngram_range=(1, 1), tfidf__use_idf=True, clf__p=2, clf__n_neighbors=7, clf__leaf_size=30, score=0.905, total=  11.8s\n",
      "[CV] vect__ngram_range=(1, 1), tfidf__use_idf=True, clf__p=2, clf__n_neighbors=7, clf__leaf_size=30 \n",
      "[CV]  vect__ngram_range=(1, 1), tfidf__use_idf=True, clf__p=2, clf__n_neighbors=7, clf__leaf_size=30, score=0.909, total=  13.1s\n",
      "[CV] vect__ngram_range=(1, 2), tfidf__use_idf=True, clf__p=3, clf__n_neighbors=8, clf__leaf_size=34 \n"
     ]
    },
    {
     "name": "stderr",
     "output_type": "stream",
     "text": [
      "C:\\Users\\audia\\AppData\\Roaming\\Python\\Python38\\site-packages\\sklearn\\model_selection\\_validation.py:548: FitFailedWarning: Estimator fit failed. The score on this train-test partition for these parameters will be set to nan. Details: \n",
      "Traceback (most recent call last):\n",
      "  File \"C:\\Users\\audia\\AppData\\Roaming\\Python\\Python38\\site-packages\\sklearn\\model_selection\\_validation.py\", line 531, in _fit_and_score\n",
      "    estimator.fit(X_train, y_train, **fit_params)\n",
      "  File \"C:\\Users\\audia\\AppData\\Roaming\\Python\\Python38\\site-packages\\sklearn\\pipeline.py\", line 335, in fit\n",
      "    self._final_estimator.fit(Xt, y, **fit_params_last_step)\n",
      "  File \"C:\\Users\\audia\\AppData\\Roaming\\Python\\Python38\\site-packages\\sklearn\\neighbors\\_base.py\", line 1157, in fit\n",
      "    return self._fit(X)\n",
      "  File \"C:\\Users\\audia\\AppData\\Roaming\\Python\\Python38\\site-packages\\sklearn\\neighbors\\_base.py\", line 419, in _fit\n",
      "    raise ValueError(\"Metric '%s' not valid for sparse input. \"\n",
      "ValueError: Metric 'minkowski' not valid for sparse input. Use sorted(sklearn.neighbors.VALID_METRICS_SPARSE['brute']) to get valid options. Metric can also be a callable function.\n",
      "\n",
      "  warnings.warn(\"Estimator fit failed. The score on this train-test\"\n"
     ]
    },
    {
     "name": "stdout",
     "output_type": "stream",
     "text": [
      "[CV]  vect__ngram_range=(1, 2), tfidf__use_idf=True, clf__p=3, clf__n_neighbors=8, clf__leaf_size=34, score=nan, total=   2.0s\n",
      "[CV] vect__ngram_range=(1, 2), tfidf__use_idf=True, clf__p=3, clf__n_neighbors=8, clf__leaf_size=34 \n"
     ]
    },
    {
     "name": "stderr",
     "output_type": "stream",
     "text": [
      "C:\\Users\\audia\\AppData\\Roaming\\Python\\Python38\\site-packages\\sklearn\\model_selection\\_validation.py:548: FitFailedWarning: Estimator fit failed. The score on this train-test partition for these parameters will be set to nan. Details: \n",
      "Traceback (most recent call last):\n",
      "  File \"C:\\Users\\audia\\AppData\\Roaming\\Python\\Python38\\site-packages\\sklearn\\model_selection\\_validation.py\", line 531, in _fit_and_score\n",
      "    estimator.fit(X_train, y_train, **fit_params)\n",
      "  File \"C:\\Users\\audia\\AppData\\Roaming\\Python\\Python38\\site-packages\\sklearn\\pipeline.py\", line 335, in fit\n",
      "    self._final_estimator.fit(Xt, y, **fit_params_last_step)\n",
      "  File \"C:\\Users\\audia\\AppData\\Roaming\\Python\\Python38\\site-packages\\sklearn\\neighbors\\_base.py\", line 1157, in fit\n",
      "    return self._fit(X)\n",
      "  File \"C:\\Users\\audia\\AppData\\Roaming\\Python\\Python38\\site-packages\\sklearn\\neighbors\\_base.py\", line 419, in _fit\n",
      "    raise ValueError(\"Metric '%s' not valid for sparse input. \"\n",
      "ValueError: Metric 'minkowski' not valid for sparse input. Use sorted(sklearn.neighbors.VALID_METRICS_SPARSE['brute']) to get valid options. Metric can also be a callable function.\n",
      "\n",
      "  warnings.warn(\"Estimator fit failed. The score on this train-test\"\n"
     ]
    },
    {
     "name": "stdout",
     "output_type": "stream",
     "text": [
      "[CV]  vect__ngram_range=(1, 2), tfidf__use_idf=True, clf__p=3, clf__n_neighbors=8, clf__leaf_size=34, score=nan, total=   1.7s\n",
      "[CV] vect__ngram_range=(1, 2), tfidf__use_idf=True, clf__p=3, clf__n_neighbors=8, clf__leaf_size=34 \n"
     ]
    },
    {
     "name": "stderr",
     "output_type": "stream",
     "text": [
      "C:\\Users\\audia\\AppData\\Roaming\\Python\\Python38\\site-packages\\sklearn\\model_selection\\_validation.py:548: FitFailedWarning: Estimator fit failed. The score on this train-test partition for these parameters will be set to nan. Details: \n",
      "Traceback (most recent call last):\n",
      "  File \"C:\\Users\\audia\\AppData\\Roaming\\Python\\Python38\\site-packages\\sklearn\\model_selection\\_validation.py\", line 531, in _fit_and_score\n",
      "    estimator.fit(X_train, y_train, **fit_params)\n",
      "  File \"C:\\Users\\audia\\AppData\\Roaming\\Python\\Python38\\site-packages\\sklearn\\pipeline.py\", line 335, in fit\n",
      "    self._final_estimator.fit(Xt, y, **fit_params_last_step)\n",
      "  File \"C:\\Users\\audia\\AppData\\Roaming\\Python\\Python38\\site-packages\\sklearn\\neighbors\\_base.py\", line 1157, in fit\n",
      "    return self._fit(X)\n",
      "  File \"C:\\Users\\audia\\AppData\\Roaming\\Python\\Python38\\site-packages\\sklearn\\neighbors\\_base.py\", line 419, in _fit\n",
      "    raise ValueError(\"Metric '%s' not valid for sparse input. \"\n",
      "ValueError: Metric 'minkowski' not valid for sparse input. Use sorted(sklearn.neighbors.VALID_METRICS_SPARSE['brute']) to get valid options. Metric can also be a callable function.\n",
      "\n",
      "  warnings.warn(\"Estimator fit failed. The score on this train-test\"\n"
     ]
    },
    {
     "name": "stdout",
     "output_type": "stream",
     "text": [
      "[CV]  vect__ngram_range=(1, 2), tfidf__use_idf=True, clf__p=3, clf__n_neighbors=8, clf__leaf_size=34, score=nan, total=   1.6s\n",
      "[CV] vect__ngram_range=(1, 2), tfidf__use_idf=True, clf__p=3, clf__n_neighbors=8, clf__leaf_size=34 \n"
     ]
    },
    {
     "name": "stderr",
     "output_type": "stream",
     "text": [
      "C:\\Users\\audia\\AppData\\Roaming\\Python\\Python38\\site-packages\\sklearn\\model_selection\\_validation.py:548: FitFailedWarning: Estimator fit failed. The score on this train-test partition for these parameters will be set to nan. Details: \n",
      "Traceback (most recent call last):\n",
      "  File \"C:\\Users\\audia\\AppData\\Roaming\\Python\\Python38\\site-packages\\sklearn\\model_selection\\_validation.py\", line 531, in _fit_and_score\n",
      "    estimator.fit(X_train, y_train, **fit_params)\n",
      "  File \"C:\\Users\\audia\\AppData\\Roaming\\Python\\Python38\\site-packages\\sklearn\\pipeline.py\", line 335, in fit\n",
      "    self._final_estimator.fit(Xt, y, **fit_params_last_step)\n",
      "  File \"C:\\Users\\audia\\AppData\\Roaming\\Python\\Python38\\site-packages\\sklearn\\neighbors\\_base.py\", line 1157, in fit\n",
      "    return self._fit(X)\n",
      "  File \"C:\\Users\\audia\\AppData\\Roaming\\Python\\Python38\\site-packages\\sklearn\\neighbors\\_base.py\", line 419, in _fit\n",
      "    raise ValueError(\"Metric '%s' not valid for sparse input. \"\n",
      "ValueError: Metric 'minkowski' not valid for sparse input. Use sorted(sklearn.neighbors.VALID_METRICS_SPARSE['brute']) to get valid options. Metric can also be a callable function.\n",
      "\n",
      "  warnings.warn(\"Estimator fit failed. The score on this train-test\"\n"
     ]
    },
    {
     "name": "stdout",
     "output_type": "stream",
     "text": [
      "[CV]  vect__ngram_range=(1, 2), tfidf__use_idf=True, clf__p=3, clf__n_neighbors=8, clf__leaf_size=34, score=nan, total=   1.7s\n",
      "[CV] vect__ngram_range=(1, 2), tfidf__use_idf=True, clf__p=3, clf__n_neighbors=8, clf__leaf_size=34 \n"
     ]
    },
    {
     "name": "stderr",
     "output_type": "stream",
     "text": [
      "C:\\Users\\audia\\AppData\\Roaming\\Python\\Python38\\site-packages\\sklearn\\model_selection\\_validation.py:548: FitFailedWarning: Estimator fit failed. The score on this train-test partition for these parameters will be set to nan. Details: \n",
      "Traceback (most recent call last):\n",
      "  File \"C:\\Users\\audia\\AppData\\Roaming\\Python\\Python38\\site-packages\\sklearn\\model_selection\\_validation.py\", line 531, in _fit_and_score\n",
      "    estimator.fit(X_train, y_train, **fit_params)\n",
      "  File \"C:\\Users\\audia\\AppData\\Roaming\\Python\\Python38\\site-packages\\sklearn\\pipeline.py\", line 335, in fit\n",
      "    self._final_estimator.fit(Xt, y, **fit_params_last_step)\n",
      "  File \"C:\\Users\\audia\\AppData\\Roaming\\Python\\Python38\\site-packages\\sklearn\\neighbors\\_base.py\", line 1157, in fit\n",
      "    return self._fit(X)\n",
      "  File \"C:\\Users\\audia\\AppData\\Roaming\\Python\\Python38\\site-packages\\sklearn\\neighbors\\_base.py\", line 419, in _fit\n",
      "    raise ValueError(\"Metric '%s' not valid for sparse input. \"\n",
      "ValueError: Metric 'minkowski' not valid for sparse input. Use sorted(sklearn.neighbors.VALID_METRICS_SPARSE['brute']) to get valid options. Metric can also be a callable function.\n",
      "\n",
      "  warnings.warn(\"Estimator fit failed. The score on this train-test\"\n"
     ]
    },
    {
     "name": "stdout",
     "output_type": "stream",
     "text": [
      "[CV]  vect__ngram_range=(1, 2), tfidf__use_idf=True, clf__p=3, clf__n_neighbors=8, clf__leaf_size=34, score=nan, total=   1.6s\n",
      "[CV] vect__ngram_range=(1, 1), tfidf__use_idf=False, clf__p=1, clf__n_neighbors=5, clf__leaf_size=32 \n",
      "[CV]  vect__ngram_range=(1, 1), tfidf__use_idf=False, clf__p=1, clf__n_neighbors=5, clf__leaf_size=32, score=0.814, total=  15.9s\n",
      "[CV] vect__ngram_range=(1, 1), tfidf__use_idf=False, clf__p=1, clf__n_neighbors=5, clf__leaf_size=32 \n",
      "[CV]  vect__ngram_range=(1, 1), tfidf__use_idf=False, clf__p=1, clf__n_neighbors=5, clf__leaf_size=32, score=0.808, total=  17.0s\n",
      "[CV] vect__ngram_range=(1, 1), tfidf__use_idf=False, clf__p=1, clf__n_neighbors=5, clf__leaf_size=32 \n",
      "[CV]  vect__ngram_range=(1, 1), tfidf__use_idf=False, clf__p=1, clf__n_neighbors=5, clf__leaf_size=32, score=0.815, total=  17.1s\n",
      "[CV] vect__ngram_range=(1, 1), tfidf__use_idf=False, clf__p=1, clf__n_neighbors=5, clf__leaf_size=32 \n",
      "[CV]  vect__ngram_range=(1, 1), tfidf__use_idf=False, clf__p=1, clf__n_neighbors=5, clf__leaf_size=32, score=0.822, total=  15.7s\n",
      "[CV] vect__ngram_range=(1, 1), tfidf__use_idf=False, clf__p=1, clf__n_neighbors=5, clf__leaf_size=32 \n",
      "[CV]  vect__ngram_range=(1, 1), tfidf__use_idf=False, clf__p=1, clf__n_neighbors=5, clf__leaf_size=32, score=0.816, total=  15.5s\n",
      "[CV] vect__ngram_range=(1, 2), tfidf__use_idf=True, clf__p=3, clf__n_neighbors=1, clf__leaf_size=26 \n"
     ]
    },
    {
     "name": "stderr",
     "output_type": "stream",
     "text": [
      "C:\\Users\\audia\\AppData\\Roaming\\Python\\Python38\\site-packages\\sklearn\\model_selection\\_validation.py:548: FitFailedWarning: Estimator fit failed. The score on this train-test partition for these parameters will be set to nan. Details: \n",
      "Traceback (most recent call last):\n",
      "  File \"C:\\Users\\audia\\AppData\\Roaming\\Python\\Python38\\site-packages\\sklearn\\model_selection\\_validation.py\", line 531, in _fit_and_score\n",
      "    estimator.fit(X_train, y_train, **fit_params)\n",
      "  File \"C:\\Users\\audia\\AppData\\Roaming\\Python\\Python38\\site-packages\\sklearn\\pipeline.py\", line 335, in fit\n",
      "    self._final_estimator.fit(Xt, y, **fit_params_last_step)\n",
      "  File \"C:\\Users\\audia\\AppData\\Roaming\\Python\\Python38\\site-packages\\sklearn\\neighbors\\_base.py\", line 1157, in fit\n",
      "    return self._fit(X)\n",
      "  File \"C:\\Users\\audia\\AppData\\Roaming\\Python\\Python38\\site-packages\\sklearn\\neighbors\\_base.py\", line 419, in _fit\n",
      "    raise ValueError(\"Metric '%s' not valid for sparse input. \"\n",
      "ValueError: Metric 'minkowski' not valid for sparse input. Use sorted(sklearn.neighbors.VALID_METRICS_SPARSE['brute']) to get valid options. Metric can also be a callable function.\n",
      "\n",
      "  warnings.warn(\"Estimator fit failed. The score on this train-test\"\n"
     ]
    },
    {
     "name": "stdout",
     "output_type": "stream",
     "text": [
      "[CV]  vect__ngram_range=(1, 2), tfidf__use_idf=True, clf__p=3, clf__n_neighbors=1, clf__leaf_size=26, score=nan, total=   1.6s\n",
      "[CV] vect__ngram_range=(1, 2), tfidf__use_idf=True, clf__p=3, clf__n_neighbors=1, clf__leaf_size=26 \n"
     ]
    },
    {
     "name": "stderr",
     "output_type": "stream",
     "text": [
      "C:\\Users\\audia\\AppData\\Roaming\\Python\\Python38\\site-packages\\sklearn\\model_selection\\_validation.py:548: FitFailedWarning: Estimator fit failed. The score on this train-test partition for these parameters will be set to nan. Details: \n",
      "Traceback (most recent call last):\n",
      "  File \"C:\\Users\\audia\\AppData\\Roaming\\Python\\Python38\\site-packages\\sklearn\\model_selection\\_validation.py\", line 531, in _fit_and_score\n",
      "    estimator.fit(X_train, y_train, **fit_params)\n",
      "  File \"C:\\Users\\audia\\AppData\\Roaming\\Python\\Python38\\site-packages\\sklearn\\pipeline.py\", line 335, in fit\n",
      "    self._final_estimator.fit(Xt, y, **fit_params_last_step)\n",
      "  File \"C:\\Users\\audia\\AppData\\Roaming\\Python\\Python38\\site-packages\\sklearn\\neighbors\\_base.py\", line 1157, in fit\n",
      "    return self._fit(X)\n",
      "  File \"C:\\Users\\audia\\AppData\\Roaming\\Python\\Python38\\site-packages\\sklearn\\neighbors\\_base.py\", line 419, in _fit\n",
      "    raise ValueError(\"Metric '%s' not valid for sparse input. \"\n",
      "ValueError: Metric 'minkowski' not valid for sparse input. Use sorted(sklearn.neighbors.VALID_METRICS_SPARSE['brute']) to get valid options. Metric can also be a callable function.\n",
      "\n",
      "  warnings.warn(\"Estimator fit failed. The score on this train-test\"\n"
     ]
    },
    {
     "name": "stdout",
     "output_type": "stream",
     "text": [
      "[CV]  vect__ngram_range=(1, 2), tfidf__use_idf=True, clf__p=3, clf__n_neighbors=1, clf__leaf_size=26, score=nan, total=   1.6s\n",
      "[CV] vect__ngram_range=(1, 2), tfidf__use_idf=True, clf__p=3, clf__n_neighbors=1, clf__leaf_size=26 \n"
     ]
    },
    {
     "name": "stderr",
     "output_type": "stream",
     "text": [
      "C:\\Users\\audia\\AppData\\Roaming\\Python\\Python38\\site-packages\\sklearn\\model_selection\\_validation.py:548: FitFailedWarning: Estimator fit failed. The score on this train-test partition for these parameters will be set to nan. Details: \n",
      "Traceback (most recent call last):\n",
      "  File \"C:\\Users\\audia\\AppData\\Roaming\\Python\\Python38\\site-packages\\sklearn\\model_selection\\_validation.py\", line 531, in _fit_and_score\n",
      "    estimator.fit(X_train, y_train, **fit_params)\n",
      "  File \"C:\\Users\\audia\\AppData\\Roaming\\Python\\Python38\\site-packages\\sklearn\\pipeline.py\", line 335, in fit\n",
      "    self._final_estimator.fit(Xt, y, **fit_params_last_step)\n",
      "  File \"C:\\Users\\audia\\AppData\\Roaming\\Python\\Python38\\site-packages\\sklearn\\neighbors\\_base.py\", line 1157, in fit\n",
      "    return self._fit(X)\n",
      "  File \"C:\\Users\\audia\\AppData\\Roaming\\Python\\Python38\\site-packages\\sklearn\\neighbors\\_base.py\", line 419, in _fit\n",
      "    raise ValueError(\"Metric '%s' not valid for sparse input. \"\n",
      "ValueError: Metric 'minkowski' not valid for sparse input. Use sorted(sklearn.neighbors.VALID_METRICS_SPARSE['brute']) to get valid options. Metric can also be a callable function.\n",
      "\n",
      "  warnings.warn(\"Estimator fit failed. The score on this train-test\"\n"
     ]
    },
    {
     "name": "stdout",
     "output_type": "stream",
     "text": [
      "[CV]  vect__ngram_range=(1, 2), tfidf__use_idf=True, clf__p=3, clf__n_neighbors=1, clf__leaf_size=26, score=nan, total=   1.6s\n",
      "[CV] vect__ngram_range=(1, 2), tfidf__use_idf=True, clf__p=3, clf__n_neighbors=1, clf__leaf_size=26 \n"
     ]
    },
    {
     "name": "stderr",
     "output_type": "stream",
     "text": [
      "C:\\Users\\audia\\AppData\\Roaming\\Python\\Python38\\site-packages\\sklearn\\model_selection\\_validation.py:548: FitFailedWarning: Estimator fit failed. The score on this train-test partition for these parameters will be set to nan. Details: \n",
      "Traceback (most recent call last):\n",
      "  File \"C:\\Users\\audia\\AppData\\Roaming\\Python\\Python38\\site-packages\\sklearn\\model_selection\\_validation.py\", line 531, in _fit_and_score\n",
      "    estimator.fit(X_train, y_train, **fit_params)\n",
      "  File \"C:\\Users\\audia\\AppData\\Roaming\\Python\\Python38\\site-packages\\sklearn\\pipeline.py\", line 335, in fit\n",
      "    self._final_estimator.fit(Xt, y, **fit_params_last_step)\n",
      "  File \"C:\\Users\\audia\\AppData\\Roaming\\Python\\Python38\\site-packages\\sklearn\\neighbors\\_base.py\", line 1157, in fit\n",
      "    return self._fit(X)\n",
      "  File \"C:\\Users\\audia\\AppData\\Roaming\\Python\\Python38\\site-packages\\sklearn\\neighbors\\_base.py\", line 419, in _fit\n",
      "    raise ValueError(\"Metric '%s' not valid for sparse input. \"\n",
      "ValueError: Metric 'minkowski' not valid for sparse input. Use sorted(sklearn.neighbors.VALID_METRICS_SPARSE['brute']) to get valid options. Metric can also be a callable function.\n",
      "\n",
      "  warnings.warn(\"Estimator fit failed. The score on this train-test\"\n"
     ]
    },
    {
     "name": "stdout",
     "output_type": "stream",
     "text": [
      "[CV]  vect__ngram_range=(1, 2), tfidf__use_idf=True, clf__p=3, clf__n_neighbors=1, clf__leaf_size=26, score=nan, total=   1.6s\n",
      "[CV] vect__ngram_range=(1, 2), tfidf__use_idf=True, clf__p=3, clf__n_neighbors=1, clf__leaf_size=26 \n"
     ]
    },
    {
     "name": "stderr",
     "output_type": "stream",
     "text": [
      "C:\\Users\\audia\\AppData\\Roaming\\Python\\Python38\\site-packages\\sklearn\\model_selection\\_validation.py:548: FitFailedWarning: Estimator fit failed. The score on this train-test partition for these parameters will be set to nan. Details: \n",
      "Traceback (most recent call last):\n",
      "  File \"C:\\Users\\audia\\AppData\\Roaming\\Python\\Python38\\site-packages\\sklearn\\model_selection\\_validation.py\", line 531, in _fit_and_score\n",
      "    estimator.fit(X_train, y_train, **fit_params)\n",
      "  File \"C:\\Users\\audia\\AppData\\Roaming\\Python\\Python38\\site-packages\\sklearn\\pipeline.py\", line 335, in fit\n",
      "    self._final_estimator.fit(Xt, y, **fit_params_last_step)\n",
      "  File \"C:\\Users\\audia\\AppData\\Roaming\\Python\\Python38\\site-packages\\sklearn\\neighbors\\_base.py\", line 1157, in fit\n",
      "    return self._fit(X)\n",
      "  File \"C:\\Users\\audia\\AppData\\Roaming\\Python\\Python38\\site-packages\\sklearn\\neighbors\\_base.py\", line 419, in _fit\n",
      "    raise ValueError(\"Metric '%s' not valid for sparse input. \"\n",
      "ValueError: Metric 'minkowski' not valid for sparse input. Use sorted(sklearn.neighbors.VALID_METRICS_SPARSE['brute']) to get valid options. Metric can also be a callable function.\n",
      "\n",
      "  warnings.warn(\"Estimator fit failed. The score on this train-test\"\n"
     ]
    },
    {
     "name": "stdout",
     "output_type": "stream",
     "text": [
      "[CV]  vect__ngram_range=(1, 2), tfidf__use_idf=True, clf__p=3, clf__n_neighbors=1, clf__leaf_size=26, score=nan, total=   1.6s\n",
      "[CV] vect__ngram_range=(1, 2), tfidf__use_idf=True, clf__p=4, clf__n_neighbors=2, clf__leaf_size=30 \n"
     ]
    },
    {
     "name": "stderr",
     "output_type": "stream",
     "text": [
      "C:\\Users\\audia\\AppData\\Roaming\\Python\\Python38\\site-packages\\sklearn\\model_selection\\_validation.py:548: FitFailedWarning: Estimator fit failed. The score on this train-test partition for these parameters will be set to nan. Details: \n",
      "Traceback (most recent call last):\n",
      "  File \"C:\\Users\\audia\\AppData\\Roaming\\Python\\Python38\\site-packages\\sklearn\\model_selection\\_validation.py\", line 531, in _fit_and_score\n",
      "    estimator.fit(X_train, y_train, **fit_params)\n",
      "  File \"C:\\Users\\audia\\AppData\\Roaming\\Python\\Python38\\site-packages\\sklearn\\pipeline.py\", line 335, in fit\n",
      "    self._final_estimator.fit(Xt, y, **fit_params_last_step)\n",
      "  File \"C:\\Users\\audia\\AppData\\Roaming\\Python\\Python38\\site-packages\\sklearn\\neighbors\\_base.py\", line 1157, in fit\n",
      "    return self._fit(X)\n",
      "  File \"C:\\Users\\audia\\AppData\\Roaming\\Python\\Python38\\site-packages\\sklearn\\neighbors\\_base.py\", line 419, in _fit\n",
      "    raise ValueError(\"Metric '%s' not valid for sparse input. \"\n",
      "ValueError: Metric 'minkowski' not valid for sparse input. Use sorted(sklearn.neighbors.VALID_METRICS_SPARSE['brute']) to get valid options. Metric can also be a callable function.\n",
      "\n",
      "  warnings.warn(\"Estimator fit failed. The score on this train-test\"\n"
     ]
    },
    {
     "name": "stdout",
     "output_type": "stream",
     "text": [
      "[CV]  vect__ngram_range=(1, 2), tfidf__use_idf=True, clf__p=4, clf__n_neighbors=2, clf__leaf_size=30, score=nan, total=   1.7s\n",
      "[CV] vect__ngram_range=(1, 2), tfidf__use_idf=True, clf__p=4, clf__n_neighbors=2, clf__leaf_size=30 \n"
     ]
    },
    {
     "name": "stderr",
     "output_type": "stream",
     "text": [
      "C:\\Users\\audia\\AppData\\Roaming\\Python\\Python38\\site-packages\\sklearn\\model_selection\\_validation.py:548: FitFailedWarning: Estimator fit failed. The score on this train-test partition for these parameters will be set to nan. Details: \n",
      "Traceback (most recent call last):\n",
      "  File \"C:\\Users\\audia\\AppData\\Roaming\\Python\\Python38\\site-packages\\sklearn\\model_selection\\_validation.py\", line 531, in _fit_and_score\n",
      "    estimator.fit(X_train, y_train, **fit_params)\n",
      "  File \"C:\\Users\\audia\\AppData\\Roaming\\Python\\Python38\\site-packages\\sklearn\\pipeline.py\", line 335, in fit\n",
      "    self._final_estimator.fit(Xt, y, **fit_params_last_step)\n",
      "  File \"C:\\Users\\audia\\AppData\\Roaming\\Python\\Python38\\site-packages\\sklearn\\neighbors\\_base.py\", line 1157, in fit\n",
      "    return self._fit(X)\n",
      "  File \"C:\\Users\\audia\\AppData\\Roaming\\Python\\Python38\\site-packages\\sklearn\\neighbors\\_base.py\", line 419, in _fit\n",
      "    raise ValueError(\"Metric '%s' not valid for sparse input. \"\n",
      "ValueError: Metric 'minkowski' not valid for sparse input. Use sorted(sklearn.neighbors.VALID_METRICS_SPARSE['brute']) to get valid options. Metric can also be a callable function.\n",
      "\n",
      "  warnings.warn(\"Estimator fit failed. The score on this train-test\"\n"
     ]
    },
    {
     "name": "stdout",
     "output_type": "stream",
     "text": [
      "[CV]  vect__ngram_range=(1, 2), tfidf__use_idf=True, clf__p=4, clf__n_neighbors=2, clf__leaf_size=30, score=nan, total=   1.7s\n",
      "[CV] vect__ngram_range=(1, 2), tfidf__use_idf=True, clf__p=4, clf__n_neighbors=2, clf__leaf_size=30 \n"
     ]
    },
    {
     "name": "stderr",
     "output_type": "stream",
     "text": [
      "C:\\Users\\audia\\AppData\\Roaming\\Python\\Python38\\site-packages\\sklearn\\model_selection\\_validation.py:548: FitFailedWarning: Estimator fit failed. The score on this train-test partition for these parameters will be set to nan. Details: \n",
      "Traceback (most recent call last):\n",
      "  File \"C:\\Users\\audia\\AppData\\Roaming\\Python\\Python38\\site-packages\\sklearn\\model_selection\\_validation.py\", line 531, in _fit_and_score\n",
      "    estimator.fit(X_train, y_train, **fit_params)\n",
      "  File \"C:\\Users\\audia\\AppData\\Roaming\\Python\\Python38\\site-packages\\sklearn\\pipeline.py\", line 335, in fit\n",
      "    self._final_estimator.fit(Xt, y, **fit_params_last_step)\n",
      "  File \"C:\\Users\\audia\\AppData\\Roaming\\Python\\Python38\\site-packages\\sklearn\\neighbors\\_base.py\", line 1157, in fit\n",
      "    return self._fit(X)\n",
      "  File \"C:\\Users\\audia\\AppData\\Roaming\\Python\\Python38\\site-packages\\sklearn\\neighbors\\_base.py\", line 419, in _fit\n",
      "    raise ValueError(\"Metric '%s' not valid for sparse input. \"\n",
      "ValueError: Metric 'minkowski' not valid for sparse input. Use sorted(sklearn.neighbors.VALID_METRICS_SPARSE['brute']) to get valid options. Metric can also be a callable function.\n",
      "\n",
      "  warnings.warn(\"Estimator fit failed. The score on this train-test\"\n"
     ]
    },
    {
     "name": "stdout",
     "output_type": "stream",
     "text": [
      "[CV]  vect__ngram_range=(1, 2), tfidf__use_idf=True, clf__p=4, clf__n_neighbors=2, clf__leaf_size=30, score=nan, total=   1.7s\n",
      "[CV] vect__ngram_range=(1, 2), tfidf__use_idf=True, clf__p=4, clf__n_neighbors=2, clf__leaf_size=30 \n"
     ]
    },
    {
     "name": "stderr",
     "output_type": "stream",
     "text": [
      "C:\\Users\\audia\\AppData\\Roaming\\Python\\Python38\\site-packages\\sklearn\\model_selection\\_validation.py:548: FitFailedWarning: Estimator fit failed. The score on this train-test partition for these parameters will be set to nan. Details: \n",
      "Traceback (most recent call last):\n",
      "  File \"C:\\Users\\audia\\AppData\\Roaming\\Python\\Python38\\site-packages\\sklearn\\model_selection\\_validation.py\", line 531, in _fit_and_score\n",
      "    estimator.fit(X_train, y_train, **fit_params)\n",
      "  File \"C:\\Users\\audia\\AppData\\Roaming\\Python\\Python38\\site-packages\\sklearn\\pipeline.py\", line 335, in fit\n",
      "    self._final_estimator.fit(Xt, y, **fit_params_last_step)\n",
      "  File \"C:\\Users\\audia\\AppData\\Roaming\\Python\\Python38\\site-packages\\sklearn\\neighbors\\_base.py\", line 1157, in fit\n",
      "    return self._fit(X)\n",
      "  File \"C:\\Users\\audia\\AppData\\Roaming\\Python\\Python38\\site-packages\\sklearn\\neighbors\\_base.py\", line 419, in _fit\n",
      "    raise ValueError(\"Metric '%s' not valid for sparse input. \"\n",
      "ValueError: Metric 'minkowski' not valid for sparse input. Use sorted(sklearn.neighbors.VALID_METRICS_SPARSE['brute']) to get valid options. Metric can also be a callable function.\n",
      "\n",
      "  warnings.warn(\"Estimator fit failed. The score on this train-test\"\n"
     ]
    },
    {
     "name": "stdout",
     "output_type": "stream",
     "text": [
      "[CV]  vect__ngram_range=(1, 2), tfidf__use_idf=True, clf__p=4, clf__n_neighbors=2, clf__leaf_size=30, score=nan, total=   1.9s\n",
      "[CV] vect__ngram_range=(1, 2), tfidf__use_idf=True, clf__p=4, clf__n_neighbors=2, clf__leaf_size=30 \n"
     ]
    },
    {
     "name": "stderr",
     "output_type": "stream",
     "text": [
      "C:\\Users\\audia\\AppData\\Roaming\\Python\\Python38\\site-packages\\sklearn\\model_selection\\_validation.py:548: FitFailedWarning: Estimator fit failed. The score on this train-test partition for these parameters will be set to nan. Details: \n",
      "Traceback (most recent call last):\n",
      "  File \"C:\\Users\\audia\\AppData\\Roaming\\Python\\Python38\\site-packages\\sklearn\\model_selection\\_validation.py\", line 531, in _fit_and_score\n",
      "    estimator.fit(X_train, y_train, **fit_params)\n",
      "  File \"C:\\Users\\audia\\AppData\\Roaming\\Python\\Python38\\site-packages\\sklearn\\pipeline.py\", line 335, in fit\n",
      "    self._final_estimator.fit(Xt, y, **fit_params_last_step)\n",
      "  File \"C:\\Users\\audia\\AppData\\Roaming\\Python\\Python38\\site-packages\\sklearn\\neighbors\\_base.py\", line 1157, in fit\n",
      "    return self._fit(X)\n",
      "  File \"C:\\Users\\audia\\AppData\\Roaming\\Python\\Python38\\site-packages\\sklearn\\neighbors\\_base.py\", line 419, in _fit\n",
      "    raise ValueError(\"Metric '%s' not valid for sparse input. \"\n",
      "ValueError: Metric 'minkowski' not valid for sparse input. Use sorted(sklearn.neighbors.VALID_METRICS_SPARSE['brute']) to get valid options. Metric can also be a callable function.\n",
      "\n",
      "  warnings.warn(\"Estimator fit failed. The score on this train-test\"\n",
      "[Parallel(n_jobs=1)]: Done  50 out of  50 | elapsed:  6.2min finished\n"
     ]
    },
    {
     "name": "stdout",
     "output_type": "stream",
     "text": [
      "[CV]  vect__ngram_range=(1, 2), tfidf__use_idf=True, clf__p=4, clf__n_neighbors=2, clf__leaf_size=30, score=nan, total=   1.8s\n"
     ]
    }
   ],
   "source": [
    "rs_knn = RandomizedSearchCV(pipeline_knn, param_distributions=parameters, verbose=8, cv=5)\n",
    "rs_knn = rs_knn.fit(X_train, y_train)"
   ]
  },
  {
   "cell_type": "code",
   "execution_count": 92,
   "metadata": {},
   "outputs": [
    {
     "data": {
      "text/plain": [
       "{'vect__ngram_range': (1, 1),\n",
       " 'tfidf__use_idf': True,\n",
       " 'clf__p': 2,\n",
       " 'clf__n_neighbors': 7,\n",
       " 'clf__leaf_size': 30}"
      ]
     },
     "execution_count": 92,
     "metadata": {},
     "output_type": "execute_result"
    }
   ],
   "source": [
    "rs_knn.best_params_"
   ]
  },
  {
   "cell_type": "code",
   "execution_count": 93,
   "metadata": {},
   "outputs": [
    {
     "data": {
      "text/plain": [
       "0.9127946898603799"
      ]
     },
     "execution_count": 93,
     "metadata": {},
     "output_type": "execute_result"
    }
   ],
   "source": [
    "predicted = rs_knn.predict(X_test)\n",
    "np.mean(predicted == y_test)"
   ]
  },
  {
   "cell_type": "code",
   "execution_count": 95,
   "metadata": {},
   "outputs": [
    {
     "name": "stdout",
     "output_type": "stream",
     "text": [
      "               precision    recall  f1-score   support\n",
      "\n",
      "     Business       0.89      0.89      0.89      3607\n",
      "Entertainment       0.94      0.97      0.95      4802\n",
      "      Medical       0.94      0.83      0.88      1428\n",
      "   Technology       0.90      0.89      0.89      3270\n",
      "\n",
      "     accuracy                           0.91     13107\n",
      "    macro avg       0.91      0.90      0.90     13107\n",
      " weighted avg       0.91      0.91      0.91     13107\n",
      "\n"
     ]
    }
   ],
   "source": [
    "print(classification_report(y_test,predicted))"
   ]
  },
  {
   "cell_type": "markdown",
   "metadata": {},
   "source": [
    "### We have increased accuracy from 91% to 91.3%"
   ]
  },
  {
   "cell_type": "markdown",
   "metadata": {},
   "source": [
    "### The result are great for predicting spam comments!"
   ]
  },
  {
   "cell_type": "markdown",
   "metadata": {},
   "source": [
    "#### Notes: The f1-score on 4 categories of news is pretty good despite the fact that the data is imbalanced. We use f1-score as evaluation metric because the data is imbalanced and it is a multiclass problem, which ROC-AUC curve is harder to interpret."
   ]
  },
  {
   "cell_type": "markdown",
   "metadata": {},
   "source": [
    " "
   ]
  },
  {
   "cell_type": "markdown",
   "metadata": {},
   "source": [
    "## NLTK (Natural Language Toolkit)\n",
    "\n",
    "stemming is the process of reducing inflected (or sometimes derived) words to their word stem, base or root form. E.g. A stemming algorithm reduces the words “fishing”, “fished”, and “fisher” to the root word, “fish”.\n",
    "We need NLTK to do this. NLTK comes with various stemmers which can help reducing the words to their root form."
   ]
  },
  {
   "cell_type": "code",
   "execution_count": 98,
   "metadata": {},
   "outputs": [
    {
     "data": {
      "text/plain": [
       "0.9065384908827344"
      ]
     },
     "execution_count": 98,
     "metadata": {},
     "output_type": "execute_result"
    }
   ],
   "source": [
    "import nltk\n",
    "from nltk.stem.snowball import SnowballStemmer\n",
    "\n",
    "stemmer = SnowballStemmer(\"english\", ignore_stopwords=True)\n",
    "\n",
    "class StemmedCountVectorizer(CountVectorizer):\n",
    "    def build_analyzer(self):\n",
    "        analyzer = super(StemmedCountVectorizer, self).build_analyzer()\n",
    "        return lambda doc: ([stemmer.stem(w) for w in analyzer(doc)])\n",
    "stemmed_count_vect = StemmedCountVectorizer()\n",
    "text_mnb_stemmed = Pipeline([('vect', stemmed_count_vect),\n",
    "                          ('tfidf', TfidfTransformer()),\n",
    "                          ('mnb', MultinomialNB(fit_prior=False)),\n",
    "                             ])\n",
    "text_mnb_stemmed = text_mnb_stemmed.fit(X_train, y_train)\n",
    "predicted_mnb_stemmed = text_mnb_stemmed.predict(X_test)\n",
    "np.mean(predicted_mnb_stemmed == y_test)"
   ]
  },
  {
   "cell_type": "markdown",
   "metadata": {},
   "source": [
    "#### NLTK and stemming does not increase our previous accuracy"
   ]
  },
  {
   "cell_type": "markdown",
   "metadata": {},
   "source": [
    " "
   ]
  },
  {
   "cell_type": "markdown",
   "metadata": {},
   "source": [
    " "
   ]
  },
  {
   "cell_type": "markdown",
   "metadata": {},
   "source": [
    " "
   ]
  },
  {
   "cell_type": "markdown",
   "metadata": {},
   "source": [
    "###### By Audi Armadhani for Bagidata"
   ]
  }
 ],
 "metadata": {
  "kernelspec": {
   "display_name": "Python 3",
   "language": "python",
   "name": "python3"
  },
  "language_info": {
   "codemirror_mode": {
    "name": "ipython",
    "version": 3
   },
   "file_extension": ".py",
   "mimetype": "text/x-python",
   "name": "python",
   "nbconvert_exporter": "python",
   "pygments_lexer": "ipython3",
   "version": "3.8.3"
  }
 },
 "nbformat": 4,
 "nbformat_minor": 4
}
